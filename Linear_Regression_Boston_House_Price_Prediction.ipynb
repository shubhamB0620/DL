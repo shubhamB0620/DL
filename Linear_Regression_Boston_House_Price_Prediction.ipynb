{
  "cells": [
    {
      "cell_type": "code",
      "execution_count": 1,
      "metadata": {
        "id": "4yY2xfMPUZIL"
      },
      "outputs": [],
      "source": [
        "import numpy as np\n",
        "from sklearn.datasets import fetch_california_housing\n",
        "from sklearn.model_selection import train_test_split\n",
        "from sklearn.preprocessing import StandardScaler\n",
        "from tensorflow.keras.models import Sequential\n",
        "from tensorflow.keras.layers import Dense"
      ]
    },
    {
      "cell_type": "code",
      "execution_count": 2,
      "metadata": {
        "id": "KkHECabbW3uY"
      },
      "outputs": [],
      "source": [
        "# Load the Boston Housing dataset  | Note: Not using Boston Dataset since it's deprecated\n",
        "# boston = load_boston()\n",
        "\n",
        "# Load the California Housing dataset\n",
        "housing = fetch_california_housing()"
      ]
    },
    {
      "cell_type": "code",
      "execution_count": 3,
      "metadata": {
        "id": "h6tkgfpYW4N4"
      },
      "outputs": [],
      "source": [
        "# Split the dataset into training and testing sets\n",
        "X_train, X_test, y_train, y_test = train_test_split(housing.data, housing.target, test_size=0.2, random_state=42)"
      ]
    },
    {
      "cell_type": "code",
      "execution_count": 4,
      "metadata": {
        "id": "PH2RKmMDW4nJ"
      },
      "outputs": [],
      "source": [
        "# Standardize the features\n",
        "scaler = StandardScaler()\n",
        "X_train = scaler.fit_transform(X_train)\n",
        "X_test = scaler.transform(X_test)"
      ]
    },
    {
      "cell_type": "code",
      "execution_count": 5,
      "metadata": {
        "id": "TgK7VLIuW48P"
      },
      "outputs": [],
      "source": [
        "# Build the model\n",
        "model = Sequential()\n",
        "model.add(Dense(64, activation='relu', input_shape=(X_train.shape[1],)))\n",
        "model.add(Dense(64, activation='relu'))\n",
        "model.add(Dense(1))"
      ]
    },
    {
      "cell_type": "code",
      "execution_count": 6,
      "metadata": {
        "colab": {
          "base_uri": "https://localhost:8080/"
        },
        "id": "SnHwJZP2W5SI",
        "outputId": "060f2de4-21bf-4178-f852-78d865aec1a7"
      },
      "outputs": [
        {
          "output_type": "stream",
          "name": "stdout",
          "text": [
            "Epoch 1/100\n",
            "516/516 [==============================] - 2s 2ms/step - loss: 0.7775\n",
            "Epoch 2/100\n",
            "516/516 [==============================] - 1s 2ms/step - loss: 0.3974\n",
            "Epoch 3/100\n",
            "516/516 [==============================] - 1s 1ms/step - loss: 0.3857\n",
            "Epoch 4/100\n",
            "516/516 [==============================] - 1s 1ms/step - loss: 0.3504\n",
            "Epoch 5/100\n",
            "516/516 [==============================] - 1s 2ms/step - loss: 0.3479\n",
            "Epoch 6/100\n",
            "516/516 [==============================] - 1s 2ms/step - loss: 0.3197\n",
            "Epoch 7/100\n",
            "516/516 [==============================] - 1s 2ms/step - loss: 0.3181\n",
            "Epoch 8/100\n",
            "516/516 [==============================] - 1s 2ms/step - loss: 0.3272\n",
            "Epoch 9/100\n",
            "516/516 [==============================] - 1s 2ms/step - loss: 0.3053\n",
            "Epoch 10/100\n",
            "516/516 [==============================] - 1s 2ms/step - loss: 0.3079\n",
            "Epoch 11/100\n",
            "516/516 [==============================] - 1s 2ms/step - loss: 0.2921\n",
            "Epoch 12/100\n",
            "516/516 [==============================] - 1s 2ms/step - loss: 0.2903\n",
            "Epoch 13/100\n",
            "516/516 [==============================] - 1s 1ms/step - loss: 0.2866\n",
            "Epoch 14/100\n",
            "516/516 [==============================] - 1s 2ms/step - loss: 0.2872\n",
            "Epoch 15/100\n",
            "516/516 [==============================] - 1s 1ms/step - loss: 0.2801\n",
            "Epoch 16/100\n",
            "516/516 [==============================] - 1s 2ms/step - loss: 0.2770\n",
            "Epoch 17/100\n",
            "516/516 [==============================] - 1s 1ms/step - loss: 0.2772\n",
            "Epoch 18/100\n",
            "516/516 [==============================] - 1s 2ms/step - loss: 0.2780\n",
            "Epoch 19/100\n",
            "516/516 [==============================] - 1s 1ms/step - loss: 0.2706\n",
            "Epoch 20/100\n",
            "516/516 [==============================] - 1s 2ms/step - loss: 0.2694\n",
            "Epoch 21/100\n",
            "516/516 [==============================] - 1s 1ms/step - loss: 0.2673\n",
            "Epoch 22/100\n",
            "516/516 [==============================] - 1s 1ms/step - loss: 0.2745\n",
            "Epoch 23/100\n",
            "516/516 [==============================] - 1s 1ms/step - loss: 0.2638\n",
            "Epoch 24/100\n",
            "516/516 [==============================] - 1s 2ms/step - loss: 0.2620\n",
            "Epoch 25/100\n",
            "516/516 [==============================] - 1s 2ms/step - loss: 0.2624\n",
            "Epoch 26/100\n",
            "516/516 [==============================] - 1s 2ms/step - loss: 0.2604\n",
            "Epoch 27/100\n",
            "516/516 [==============================] - 1s 1ms/step - loss: 0.2589\n",
            "Epoch 28/100\n",
            "516/516 [==============================] - 1s 1ms/step - loss: 0.2556\n",
            "Epoch 29/100\n",
            "516/516 [==============================] - 1s 1ms/step - loss: 0.2609\n",
            "Epoch 30/100\n",
            "516/516 [==============================] - 1s 2ms/step - loss: 0.2583\n",
            "Epoch 31/100\n",
            "516/516 [==============================] - 1s 1ms/step - loss: 0.2509\n",
            "Epoch 32/100\n",
            "516/516 [==============================] - 1s 1ms/step - loss: 0.2532\n",
            "Epoch 33/100\n",
            "516/516 [==============================] - 1s 2ms/step - loss: 0.2579\n",
            "Epoch 34/100\n",
            "516/516 [==============================] - 1s 1ms/step - loss: 0.2494\n",
            "Epoch 35/100\n",
            "516/516 [==============================] - 1s 1ms/step - loss: 0.2487\n",
            "Epoch 36/100\n",
            "516/516 [==============================] - 1s 1ms/step - loss: 0.2461\n",
            "Epoch 37/100\n",
            "516/516 [==============================] - 1s 1ms/step - loss: 0.2461\n",
            "Epoch 38/100\n",
            "516/516 [==============================] - 1s 1ms/step - loss: 0.2475\n",
            "Epoch 39/100\n",
            "516/516 [==============================] - 1s 2ms/step - loss: 0.2455\n",
            "Epoch 40/100\n",
            "516/516 [==============================] - 1s 2ms/step - loss: 0.2460\n",
            "Epoch 41/100\n",
            "516/516 [==============================] - 1s 2ms/step - loss: 0.2416\n",
            "Epoch 42/100\n",
            "516/516 [==============================] - 1s 2ms/step - loss: 0.2400\n",
            "Epoch 43/100\n",
            "516/516 [==============================] - 1s 1ms/step - loss: 0.2443\n",
            "Epoch 44/100\n",
            "516/516 [==============================] - 1s 1ms/step - loss: 0.2407\n",
            "Epoch 45/100\n",
            "516/516 [==============================] - 1s 1ms/step - loss: 0.2367\n",
            "Epoch 46/100\n",
            "516/516 [==============================] - 1s 1ms/step - loss: 0.2397\n",
            "Epoch 47/100\n",
            "516/516 [==============================] - 1s 1ms/step - loss: 0.2341\n",
            "Epoch 48/100\n",
            "516/516 [==============================] - 1s 1ms/step - loss: 0.2352\n",
            "Epoch 49/100\n",
            "516/516 [==============================] - 1s 1ms/step - loss: 0.2357\n",
            "Epoch 50/100\n",
            "516/516 [==============================] - 1s 2ms/step - loss: 0.2353\n",
            "Epoch 51/100\n",
            "516/516 [==============================] - 1s 1ms/step - loss: 0.2352\n",
            "Epoch 52/100\n",
            "516/516 [==============================] - 1s 1ms/step - loss: 0.2307\n",
            "Epoch 53/100\n",
            "516/516 [==============================] - 1s 1ms/step - loss: 0.2319\n",
            "Epoch 54/100\n",
            "516/516 [==============================] - 1s 1ms/step - loss: 0.2296\n",
            "Epoch 55/100\n",
            "516/516 [==============================] - 1s 2ms/step - loss: 0.2285\n",
            "Epoch 56/100\n",
            "516/516 [==============================] - 1s 2ms/step - loss: 0.2286\n",
            "Epoch 57/100\n",
            "516/516 [==============================] - 1s 2ms/step - loss: 0.2289\n",
            "Epoch 58/100\n",
            "516/516 [==============================] - 1s 1ms/step - loss: 0.2266\n",
            "Epoch 59/100\n",
            "516/516 [==============================] - 1s 1ms/step - loss: 0.2272\n",
            "Epoch 60/100\n",
            "516/516 [==============================] - 1s 1ms/step - loss: 0.2245\n",
            "Epoch 61/100\n",
            "516/516 [==============================] - 1s 1ms/step - loss: 0.2235\n",
            "Epoch 62/100\n",
            "516/516 [==============================] - 1s 1ms/step - loss: 0.2237\n",
            "Epoch 63/100\n",
            "516/516 [==============================] - 1s 1ms/step - loss: 0.2259\n",
            "Epoch 64/100\n",
            "516/516 [==============================] - 1s 1ms/step - loss: 0.2228\n",
            "Epoch 65/100\n",
            "516/516 [==============================] - 1s 2ms/step - loss: 0.2217\n",
            "Epoch 66/100\n",
            "516/516 [==============================] - 1s 1ms/step - loss: 0.2213\n",
            "Epoch 67/100\n",
            "516/516 [==============================] - 1s 1ms/step - loss: 0.2214\n",
            "Epoch 68/100\n",
            "516/516 [==============================] - 1s 1ms/step - loss: 0.2203\n",
            "Epoch 69/100\n",
            "516/516 [==============================] - 1s 1ms/step - loss: 0.2203\n",
            "Epoch 70/100\n",
            "516/516 [==============================] - 1s 1ms/step - loss: 0.2190\n",
            "Epoch 71/100\n",
            "516/516 [==============================] - 1s 2ms/step - loss: 0.2189\n",
            "Epoch 72/100\n",
            "516/516 [==============================] - 1s 2ms/step - loss: 0.2174\n",
            "Epoch 73/100\n",
            "516/516 [==============================] - 1s 2ms/step - loss: 0.2188\n",
            "Epoch 74/100\n",
            "516/516 [==============================] - 1s 1ms/step - loss: 0.2183\n",
            "Epoch 75/100\n",
            "516/516 [==============================] - 1s 2ms/step - loss: 0.2151\n",
            "Epoch 76/100\n",
            "516/516 [==============================] - 1s 1ms/step - loss: 0.2171\n",
            "Epoch 77/100\n",
            "516/516 [==============================] - 1s 1ms/step - loss: 0.2155\n",
            "Epoch 78/100\n",
            "516/516 [==============================] - 1s 1ms/step - loss: 0.2148\n",
            "Epoch 79/100\n",
            "516/516 [==============================] - 1s 1ms/step - loss: 0.2153\n",
            "Epoch 80/100\n",
            "516/516 [==============================] - 1s 1ms/step - loss: 0.2127\n",
            "Epoch 81/100\n",
            "516/516 [==============================] - 1s 1ms/step - loss: 0.2127\n",
            "Epoch 82/100\n",
            "516/516 [==============================] - 1s 1ms/step - loss: 0.2139\n",
            "Epoch 83/100\n",
            "516/516 [==============================] - 1s 1ms/step - loss: 0.2130\n",
            "Epoch 84/100\n",
            "516/516 [==============================] - 1s 1ms/step - loss: 0.2101\n",
            "Epoch 85/100\n",
            "516/516 [==============================] - 1s 1ms/step - loss: 0.2174\n",
            "Epoch 86/100\n",
            "516/516 [==============================] - 1s 2ms/step - loss: 0.2124\n",
            "Epoch 87/100\n",
            "516/516 [==============================] - 1s 2ms/step - loss: 0.2165\n",
            "Epoch 88/100\n",
            "516/516 [==============================] - 1s 2ms/step - loss: 0.2087\n",
            "Epoch 89/100\n",
            "516/516 [==============================] - 1s 2ms/step - loss: 0.2111\n",
            "Epoch 90/100\n",
            "516/516 [==============================] - 1s 1ms/step - loss: 0.2079\n",
            "Epoch 91/100\n",
            "516/516 [==============================] - 1s 1ms/step - loss: 0.2099\n",
            "Epoch 92/100\n",
            "516/516 [==============================] - 1s 1ms/step - loss: 0.2088\n",
            "Epoch 93/100\n",
            "516/516 [==============================] - 1s 1ms/step - loss: 0.2070\n",
            "Epoch 94/100\n",
            "516/516 [==============================] - 1s 1ms/step - loss: 0.2079\n",
            "Epoch 95/100\n",
            "516/516 [==============================] - 1s 1ms/step - loss: 0.2071\n",
            "Epoch 96/100\n",
            "516/516 [==============================] - 1s 1ms/step - loss: 0.2082\n",
            "Epoch 97/100\n",
            "516/516 [==============================] - 1s 1ms/step - loss: 0.2058\n",
            "Epoch 98/100\n",
            "516/516 [==============================] - 1s 2ms/step - loss: 0.2055\n",
            "Epoch 99/100\n",
            "516/516 [==============================] - 1s 2ms/step - loss: 0.2066\n",
            "Epoch 100/100\n",
            "516/516 [==============================] - 1s 1ms/step - loss: 0.2055\n"
          ]
        },
        {
          "output_type": "execute_result",
          "data": {
            "text/plain": [
              "<keras.callbacks.History at 0x7f9bdfbee530>"
            ]
          },
          "metadata": {},
          "execution_count": 6
        }
      ],
      "source": [
        "# Compile the model\n",
        "model.compile(optimizer='adam', loss='mean_squared_error')\n",
        "\n",
        "# Train the model\n",
        "model.fit(X_train, y_train, epochs=100, batch_size=32, verbose=1)"
      ]
    },
    {
      "cell_type": "code",
      "execution_count": 7,
      "metadata": {
        "colab": {
          "base_uri": "https://localhost:8080/"
        },
        "id": "GxSkKE41XMQN",
        "outputId": "71f5cf8f-b2ac-4cee-9ea9-8d681a05ec6c"
      },
      "outputs": [
        {
          "output_type": "stream",
          "name": "stdout",
          "text": [
            "Test Loss: 0.2628991901874542\n"
          ]
        }
      ],
      "source": [
        "# Evaluate the model\n",
        "loss = model.evaluate(X_test, y_test, verbose=0)\n",
        "print(f'Test Loss: {loss}')"
      ]
    },
    {
      "cell_type": "code",
      "execution_count": 8,
      "metadata": {
        "colab": {
          "base_uri": "https://localhost:8080/"
        },
        "id": "Lc9xEPWFXMnH",
        "outputId": "10165aa6-ce33-4011-8406-3983314f6b0d"
      },
      "outputs": [
        {
          "output_type": "stream",
          "name": "stdout",
          "text": [
            "129/129 [==============================] - 0s 1ms/step\n"
          ]
        }
      ],
      "source": [
        "# Predict on test data\n",
        "y_pred = model.predict(X_test)"
      ]
    },
    {
      "cell_type": "code",
      "execution_count": 9,
      "metadata": {
        "colab": {
          "base_uri": "https://localhost:8080/"
        },
        "id": "X0AGl9ANXNAZ",
        "outputId": "b1faab87-3f41-4102-9aa9-affd882e1c76"
      },
      "outputs": [
        {
          "output_type": "stream",
          "name": "stdout",
          "text": [
            "True Price: 0.477, Predicted Price: 0.5506812334060669\n",
            "True Price: 0.458, Predicted Price: 0.6865397691726685\n",
            "True Price: 5.00001, Predicted Price: 4.889181613922119\n",
            "True Price: 2.186, Predicted Price: 2.6391754150390625\n",
            "True Price: 2.78, Predicted Price: 2.591728687286377\n",
            "True Price: 1.587, Predicted Price: 1.5961594581604004\n",
            "True Price: 1.982, Predicted Price: 2.243165969848633\n",
            "True Price: 1.575, Predicted Price: 1.695862889289856\n",
            "True Price: 3.4, Predicted Price: 2.5356597900390625\n",
            "True Price: 4.466, Predicted Price: 4.599700927734375\n"
          ]
        }
      ],
      "source": [
        "# Display sample predictions\n",
        "for i in range(10):\n",
        "    print(f'True Price: {y_test[i]}, Predicted Price: {y_pred[i][0]}')"
      ]
    }
  ],
  "metadata": {
    "colab": {
      "provenance": []
    },
    "kernelspec": {
      "display_name": "Python 3",
      "name": "python3"
    },
    "language_info": {
      "codemirror_mode": {
        "name": "ipython",
        "version": 3
      },
      "file_extension": ".py",
      "mimetype": "text/x-python",
      "name": "python",
      "nbconvert_exporter": "python",
      "pygments_lexer": "ipython3",
      "version": "3.10.0"
    }
  },
  "nbformat": 4,
  "nbformat_minor": 0
}