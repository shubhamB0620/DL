{
  "cells": [
    {
      "cell_type": "code",
      "execution_count": 1,
      "id": "9b431025",
      "metadata": {
        "colab": {
          "base_uri": "https://localhost:8080/"
        },
        "id": "9b431025",
        "outputId": "c47f04ea-9e1a-4bb4-9d96-633ddd6716be"
      },
      "outputs": [
        {
          "output_type": "stream",
          "name": "stdout",
          "text": [
            "Downloading data from https://storage.googleapis.com/tensorflow/tf-keras-datasets/imdb.npz\n",
            "17464789/17464789 [==============================] - 0s 0us/step\n"
          ]
        }
      ],
      "source": [
        "import numpy as np\n",
        "import tensorflow as tf\n",
        "from tensorflow.keras.datasets import imdb\n",
        "from tensorflow.keras.models import Sequential\n",
        "from tensorflow.keras.layers import Dense, Dropout, Embedding, Flatten\n",
        "from tensorflow.keras.preprocessing.sequence import pad_sequences\n",
        "\n",
        "# Load the IMDB dataset\n",
        "(x_train, y_train), (x_test, y_test) = imdb.load_data(num_words=10000)\n"
      ]
    },
    {
      "cell_type": "code",
      "execution_count": 2,
      "id": "3923305a",
      "metadata": {
        "id": "3923305a"
      },
      "outputs": [],
      "source": [
        "max_len = 500\n",
        "\n",
        "# Pad and truncate the sequences\n",
        "x_train = pad_sequences(x_train, maxlen=max_len)\n",
        "x_test = pad_sequences(x_test, maxlen=max_len)\n"
      ]
    },
    {
      "cell_type": "code",
      "execution_count": 3,
      "id": "9291098b",
      "metadata": {
        "id": "9291098b"
      },
      "outputs": [],
      "source": [
        "model = Sequential()\n",
        "model.add(Embedding(10000, 32, input_length=max_len))\n",
        "model.add(Flatten())\n",
        "model.add(Dense(128, activation='relu'))\n",
        "model.add(Dropout(0.5))\n",
        "model.add(Dense(1, activation='sigmoid'))\n",
        "\n",
        "model.compile(optimizer='adam', loss='binary_crossentropy', metrics=['accuracy'])\n"
      ]
    },
    {
      "cell_type": "code",
      "execution_count": 4,
      "id": "0f432802",
      "metadata": {
        "colab": {
          "base_uri": "https://localhost:8080/"
        },
        "id": "0f432802",
        "outputId": "4cb05100-4019-45b0-9db3-1137e6102ff1"
      },
      "outputs": [
        {
          "output_type": "stream",
          "name": "stdout",
          "text": [
            "Epoch 1/5\n",
            "157/157 [==============================] - 14s 82ms/step - loss: 0.5116 - accuracy: 0.7242 - val_loss: 0.3345 - val_accuracy: 0.8548\n",
            "Epoch 2/5\n",
            "157/157 [==============================] - 13s 82ms/step - loss: 0.1771 - accuracy: 0.9334 - val_loss: 0.2954 - val_accuracy: 0.8792\n",
            "Epoch 3/5\n",
            "157/157 [==============================] - 14s 87ms/step - loss: 0.0508 - accuracy: 0.9873 - val_loss: 0.3531 - val_accuracy: 0.8774\n",
            "Epoch 4/5\n",
            "157/157 [==============================] - 13s 81ms/step - loss: 0.0123 - accuracy: 0.9984 - val_loss: 0.4053 - val_accuracy: 0.8740\n",
            "Epoch 5/5\n",
            "157/157 [==============================] - 13s 81ms/step - loss: 0.0040 - accuracy: 0.9998 - val_loss: 0.4449 - val_accuracy: 0.8748\n"
          ]
        },
        {
          "output_type": "execute_result",
          "data": {
            "text/plain": [
              "<keras.callbacks.History at 0x7feb08e9a830>"
            ]
          },
          "metadata": {},
          "execution_count": 4
        }
      ],
      "source": [
        "model.fit(x_train, y_train, validation_split=0.2, epochs=5, batch_size=128)\n"
      ]
    },
    {
      "cell_type": "code",
      "execution_count": 5,
      "id": "929d06d8",
      "metadata": {
        "colab": {
          "base_uri": "https://localhost:8080/"
        },
        "id": "929d06d8",
        "outputId": "dc504f16-b145-4567-f938-a5a8f5619120"
      },
      "outputs": [
        {
          "output_type": "stream",
          "name": "stdout",
          "text": [
            "782/782 [==============================] - 5s 6ms/step - loss: 0.4476 - accuracy: 0.8709\n",
            "Test accuracy: 87.09%\n"
          ]
        }
      ],
      "source": [
        "loss, accuracy = model.evaluate(x_test, y_test)\n",
        "print(f'Test accuracy: {accuracy * 100:.2f}%')\n"
      ]
    },
    {
      "cell_type": "code",
      "execution_count": 6,
      "id": "b29af7b8",
      "metadata": {
        "colab": {
          "base_uri": "https://localhost:8080/"
        },
        "id": "b29af7b8",
        "outputId": "c1654e5a-9186-4323-99e6-1f5de5741e00"
      },
      "outputs": [
        {
          "output_type": "stream",
          "name": "stdout",
          "text": [
            "Downloading data from https://storage.googleapis.com/tensorflow/tf-keras-datasets/imdb_word_index.json\n",
            "1641221/1641221 [==============================] - 0s 0us/step\n",
            "1/1 [==============================] - 0s 89ms/step\n",
            "Review: This movie was great! I loved the story and the acting was superb.\n",
            "Prediction: positive\n"
          ]
        }
      ],
      "source": [
        "def predict_review(review):\n",
        "    # Convert the review to a sequence of word indices\n",
        "    seq = imdb.get_word_index()\n",
        "    words = review.split()\n",
        "    seq = [seq[w] if w in seq else 0 for w in words]\n",
        "    seq = pad_sequences([seq], maxlen=max_len)\n",
        "    \n",
        "    # Make the prediction\n",
        "    pred = model.predict(seq)[0]\n",
        "    \n",
        "    # Return the prediction\n",
        "    return 'positive' if pred >= 0.5 else 'negative'\n",
        "\n",
        "review = \"This movie was great! I loved the story and the acting was superb.\"\n",
        "prediction = predict_review(review)\n",
        "print(f'Review: {review}')\n",
        "print(f'Prediction: {prediction}')\n"
      ]
    },
    {
      "cell_type": "code",
      "execution_count": 7,
      "id": "6840238e",
      "metadata": {
        "colab": {
          "base_uri": "https://localhost:8080/"
        },
        "id": "6840238e",
        "outputId": "fa9aa1bc-05f5-4d9d-e0e2-1ab9d1478545"
      },
      "outputs": [
        {
          "output_type": "stream",
          "name": "stdout",
          "text": [
            "Model: \"sequential\"\n",
            "_________________________________________________________________\n",
            " Layer (type)                Output Shape              Param #   \n",
            "=================================================================\n",
            " embedding (Embedding)       (None, 500, 32)           320000    \n",
            "                                                                 \n",
            " flatten (Flatten)           (None, 16000)             0         \n",
            "                                                                 \n",
            " dense (Dense)               (None, 128)               2048128   \n",
            "                                                                 \n",
            " dropout (Dropout)           (None, 128)               0         \n",
            "                                                                 \n",
            " dense_1 (Dense)             (None, 1)                 129       \n",
            "                                                                 \n",
            "=================================================================\n",
            "Total params: 2,368,257\n",
            "Trainable params: 2,368,257\n",
            "Non-trainable params: 0\n",
            "_________________________________________________________________\n"
          ]
        }
      ],
      "source": [
        "# Print model summary\n",
        "model.summary()\n"
      ]
    },
    {
      "cell_type": "code",
      "execution_count": 8,
      "id": "e77d1ab4",
      "metadata": {
        "colab": {
          "base_uri": "https://localhost:8080/",
          "height": 670
        },
        "id": "e77d1ab4",
        "outputId": "b8533484-6258-4850-ad8a-07c35abd82bf"
      },
      "outputs": [
        {
          "output_type": "stream",
          "name": "stdout",
          "text": [
            "782/782 [==============================] - 4s 6ms/step\n"
          ]
        },
        {
          "output_type": "display_data",
          "data": {
            "text/plain": [
              "<Figure size 800x800 with 2 Axes>"
            ],
            "image/png": "[encoded data removed]"
          },
          "metadata": {}
        }
      ],
      "source": [
        "from sklearn.metrics import confusion_matrix\n",
        "import matplotlib.pyplot as plt\n",
        "import numpy as np\n",
        "\n",
        "# Get predicted labels\n",
        "y_pred = np.round(model.predict(x_test))\n",
        "\n",
        "# Generate confusion matrix\n",
        "cm = confusion_matrix(y_test, y_pred)\n",
        "\n",
        "# Normalize confusion matrix\n",
        "cm_norm = cm.astype('float') / cm.sum(axis=1)[:, np.newaxis]\n",
        "\n",
        "# Set up plot\n",
        "fig, ax = plt.subplots(figsize=(8, 8))\n",
        "\n",
        "# Plot confusion matrix\n",
        "im = ax.imshow(cm_norm, interpolation='nearest', cmap=plt.cm.Blues)\n",
        "ax.figure.colorbar(im, ax=ax)\n",
        "\n",
        "# Set labels\n",
        "ax.set(xticks=np.arange(cm.shape[1]),\n",
        "       yticks=np.arange(cm.shape[0]),\n",
        "       xticklabels=['Negative', 'Positive'], yticklabels=['Negative', 'Positive'],\n",
        "       title='Confusion Matrix',\n",
        "       ylabel='True Label',\n",
        "       xlabel='Predicted Label')\n",
        "\n",
        "# Add labels to each cell\n",
        "thresh = cm_norm.max() / 2.\n",
        "for i in range(cm_norm.shape[0]):\n",
        "    for j in range(cm_norm.shape[1]):\n",
        "        ax.text(j, i, format(cm[i, j], 'd') + '\\n' + format(cm_norm[i, j], '.2f'),\n",
        "                ha=\"center\", va=\"center\",\n",
        "                color=\"white\" if cm_norm[i, j] > thresh else \"black\")\n",
        "\n",
        "# Show plot\n",
        "plt.show()\n"
      ]
    },
    {
      "cell_type": "code",
      "execution_count": 9,
      "id": "6b42f4f3",
      "metadata": {
        "colab": {
          "base_uri": "https://localhost:8080/"
        },
        "id": "6b42f4f3",
        "outputId": "051c77a7-13a6-46b2-90c1-ff5ba76fb1c2"
      },
      "outputs": [
        {
          "output_type": "stream",
          "name": "stdout",
          "text": [
            "              precision    recall  f1-score   support\n",
            "\n",
            "    Negative       0.88      0.86      0.87     12500\n",
            "    Positive       0.86      0.88      0.87     12500\n",
            "\n",
            "    accuracy                           0.87     25000\n",
            "   macro avg       0.87      0.87      0.87     25000\n",
            "weighted avg       0.87      0.87      0.87     25000\n",
            "\n"
          ]
        }
      ],
      "source": [
        "\n",
        "from sklearn.metrics import classification_report\n",
        "\n",
        "print(classification_report(y_test, y_pred, target_names=['Negative', 'Positive']))"
      ]
    },
    {
      "cell_type": "code",
      "execution_count": null,
      "id": "20f0dcbd",
      "metadata": {
        "id": "20f0dcbd"
      },
      "outputs": [],
      "source": []
    }
  ],
  "metadata": {
    "kernelspec": {
      "display_name": "Python 3 (ipykernel)",
      "language": "python",
      "name": "python3"
    },
    "language_info": {
      "codemirror_mode": {
        "name": "ipython",
        "version": 3
      },
      "file_extension": ".py",
      "mimetype": "text/x-python",
      "name": "python",
      "nbconvert_exporter": "python",
      "pygments_lexer": "ipython3",
      "version": "3.10.9"
    },
    "colab": {
      "provenance": []
    }
  },
  "nbformat": 4,
  "nbformat_minor": 5
}
